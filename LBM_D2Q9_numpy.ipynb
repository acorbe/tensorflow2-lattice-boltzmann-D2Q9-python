{
  "nbformat": 4,
  "nbformat_minor": 0,
  "metadata": {
    "kernelspec": {
      "display_name": "Python 3",
      "language": "python",
      "name": "python3"
    },
    "language_info": {
      "codemirror_mode": {
        "name": "ipython",
        "version": 3
      },
      "file_extension": ".py",
      "mimetype": "text/x-python",
      "name": "python",
      "nbconvert_exporter": "python",
      "pygments_lexer": "ipython3",
      "version": "3.7.4"
    },
    "colab": {
      "name": "LBM_D2Q9_numpy.ipynb",
      "provenance": [],
      "include_colab_link": true
    }
  },
  "cells": [
    {
      "cell_type": "markdown",
      "metadata": {
        "id": "view-in-github",
        "colab_type": "text"
      },
      "source": [
        "<a href=\"https://colab.research.google.com/github/acorbe/tensorflow2-lattice-boltzmann-D2Q9-python/blob/master/LBM_D2Q9_numpy.ipynb\" target=\"_parent\"><img src=\"https://colab.research.google.com/assets/colab-badge.svg\" alt=\"Open In Colab\"/></a>"
      ]
    },
    {
      "cell_type": "code",
      "metadata": {
        "id": "unR2m9xKR6va",
        "colab_type": "code",
        "outputId": "fe32d138-5328-44fe-a19b-0222ddba73be",
        "colab": {
          "base_uri": "https://localhost:8080/",
          "height": 1000
        }
      },
      "source": [
        "# importing python libraries\n",
        "import numpy as np\n",
        "import matplotlib.pyplot as plt\n",
        "from matplotlib import cm\n",
        "import math\n",
        "\n",
        "# Domain size and parameters \n",
        "Nx = 32  # domain size in X\n",
        "Ny = 64  # domain size in Y\n",
        "q = 9  # number of velocity directions \n",
        "\n",
        "tau = 1.0\n",
        "omega = 1. / tau\n",
        "nu = (1.0/3.0) * (tau - 0.5)\n",
        "tmax = 200\n",
        "tsave = 1\n",
        "L  = Ny/1.  # characteristic length\n",
        "u0 = 0.20  # characteristic velocity\n",
        "\n",
        "e = np.array([[0,0],[1,0],[0,1],[-1,0],[0,-1],[1,1],[-1,1],[-1,-1],[1,-1]])\n",
        "w = np.array([4./9., 1./9., 1./9., 1./9., 1./9., 1./36., 1./36., 1./36., 1./36.])\n",
        "\n",
        "\n",
        "# defining PDFs \n",
        "f = np.zeros([q,Nx,Ny])\n",
        "feq = np.zeros([q,Nx,Ny])\n",
        "fp = np.zeros([q,Nx,Ny])\n",
        "\n",
        "# defining macroscopic variables\n",
        "x = np.linspace(0,Nx-1,Nx)\n",
        "y = np.linspace(0,Ny-1,Ny)\n",
        "rho = np.zeros([Nx,Ny])\n",
        "ux = np.zeros([Nx,Ny])\n",
        "uy = np.zeros([Nx,Ny])\n",
        "\n",
        "# initialising velocity nad density\n",
        "rho[:,:] = 1.\n",
        "ux[:,:] = u0*np.sin(2.*np.pi*y/L)\n",
        "uy[:,:] = 0.\n",
        "vel = np.stack([ux,uy])\n",
        "\n",
        "\n",
        "### y position with maximum velocity\n",
        "ymax = np.argmax(ux[5,:])\n",
        "uxmax = np.zeros([tmax])\n",
        "\n",
        "\n",
        "# initialising PDFs f=feq\n",
        "#  calculating equilibrium pdf\n",
        "feq = (w[:,np.newaxis,np.newaxis]*rho[np.newaxis,:,:]*\n",
        "       (3*np.sum((e[:,:,np.newaxis,np.newaxis]*vel[np.newaxis,:,:,:]),axis=1)\n",
        "        +9/2*(np.sum((e[:,:,np.newaxis,np.newaxis]*vel[np.newaxis,:,:,:]),axis=1)**2)\n",
        "        -3/2*(vel[np.newaxis,0,:,:]*vel[np.newaxis,0,:,:]+vel[np.newaxis,1,:,:]*vel[np.newaxis,1,:,:])+1.0))\n",
        "\n",
        "#  initialising pdf with equlibrium values\n",
        "f = feq\n",
        "fp = feq\n",
        "\n",
        "data1 = open(\"density.txt\",\"w+\")\n",
        "\n",
        "###### time loop #######\n",
        "for time in range(tmax):\n",
        "    print(time)\n",
        "    #streaming\n",
        "    for k in range(q):\n",
        "        fp[k,:,:] = np.roll(np.roll(f[k,:,:],e[k,0],axis=0),e[k,1],axis=1)\n",
        "    #calculatig macro vaiables\n",
        "    rho = np.sum(fp,axis=0)\n",
        "    ux = np.sum((e[:,0][:,np.newaxis,np.newaxis] * fp),axis=0)/rho\n",
        "    uy = np.sum((e[:,1][:,np.newaxis,np.newaxis] * fp),axis=0)/rho\n",
        "    vel = np.stack([ux,uy])\n",
        "    dens = 0.\n",
        "    dens = np.sum(rho[:,:])\n",
        "    \n",
        "    # saving ux velocity at ymax point\n",
        "    uxmax[time] = ux[5,ymax]\n",
        "    \n",
        "    \n",
        "#    print(dens)\n",
        "    data1.write(\"%d %.15g \\n\" % (time+1,dens) )\n",
        "    \n",
        "    #calculating equilibrium pdf\n",
        "    feq = (w[:,np.newaxis,np.newaxis]*rho[np.newaxis,:,:]*\n",
        "           (3*np.sum((e[:,:,np.newaxis,np.newaxis]*vel[np.newaxis,:,:,:]),axis=1)\n",
        "            +9/2*(np.sum((e[:,:,np.newaxis,np.newaxis]*vel[np.newaxis,:,:,:]),axis=1)**2)\n",
        "            -3/2*(vel[np.newaxis,0,:,:]*vel[np.newaxis,0,:,:]+vel[np.newaxis,1,:,:]*vel[np.newaxis,1,:,:])+1.0))\n",
        "    # collision\n",
        "    f = omega*feq+(1.0-omega)*fp\n",
        "    \n",
        "#    if (time%tsave==0): # Visualization\n",
        "#        plt.clf(); \n",
        "#        plt.imshow(np.sqrt(vel[0]**2+vel[1]**2).transpose(),cmap=cm.Reds)\n",
        "#        plt.savefig(\"vel.\"+str(time/1000).zfill(4)+\".png\")\n",
        "    \n",
        "#    print(time)\n",
        "\n",
        "data1.close()\n",
        "\n",
        "\n",
        "\n",
        "np.savetxt('velocity.txt', ux)\n",
        "\n",
        "\n",
        "#print(uxmax)\n",
        "\n",
        "#print(vel_plot.shape)\n",
        "\n",
        "#plt.plot(uxa[2,:], -y, 'r',label='Intial');\n",
        "#plt.grid()\n",
        "#plt.show()\n"
      ],
      "execution_count": 0,
      "outputs": [
        {
          "output_type": "stream",
          "text": [
            "0\n",
            "1\n",
            "2\n",
            "3\n",
            "4\n",
            "5\n",
            "6\n",
            "7\n",
            "8\n",
            "9\n",
            "10\n",
            "11\n",
            "12\n",
            "13\n",
            "14\n",
            "15\n",
            "16\n",
            "17\n",
            "18\n",
            "19\n",
            "20\n",
            "21\n",
            "22\n",
            "23\n",
            "24\n",
            "25\n",
            "26\n",
            "27\n",
            "28\n",
            "29\n",
            "30\n",
            "31\n",
            "32\n",
            "33\n",
            "34\n",
            "35\n",
            "36\n",
            "37\n",
            "38\n",
            "39\n",
            "40\n",
            "41\n",
            "42\n",
            "43\n",
            "44\n",
            "45\n",
            "46\n",
            "47\n",
            "48\n",
            "49\n",
            "50\n",
            "51\n",
            "52\n",
            "53\n",
            "54\n",
            "55\n",
            "56\n",
            "57\n",
            "58\n",
            "59\n",
            "60\n",
            "61\n",
            "62\n",
            "63\n",
            "64\n",
            "65\n",
            "66\n",
            "67\n",
            "68\n",
            "69\n",
            "70\n",
            "71\n",
            "72\n",
            "73\n",
            "74\n",
            "75\n",
            "76\n",
            "77\n",
            "78\n",
            "79\n",
            "80\n",
            "81\n",
            "82\n",
            "83\n",
            "84\n",
            "85\n",
            "86\n",
            "87\n",
            "88\n",
            "89\n",
            "90\n",
            "91\n",
            "92\n",
            "93\n",
            "94\n",
            "95\n",
            "96\n",
            "97\n",
            "98\n",
            "99\n",
            "100\n",
            "101\n",
            "102\n",
            "103\n",
            "104\n",
            "105\n",
            "106\n",
            "107\n",
            "108\n",
            "109\n",
            "110\n",
            "111\n",
            "112\n",
            "113\n",
            "114\n",
            "115\n",
            "116\n",
            "117\n",
            "118\n",
            "119\n",
            "120\n",
            "121\n",
            "122\n",
            "123\n",
            "124\n",
            "125\n",
            "126\n",
            "127\n",
            "128\n",
            "129\n",
            "130\n",
            "131\n",
            "132\n",
            "133\n",
            "134\n",
            "135\n",
            "136\n",
            "137\n",
            "138\n",
            "139\n",
            "140\n",
            "141\n",
            "142\n",
            "143\n",
            "144\n",
            "145\n",
            "146\n",
            "147\n",
            "148\n",
            "149\n",
            "150\n",
            "151\n",
            "152\n",
            "153\n",
            "154\n",
            "155\n",
            "156\n",
            "157\n",
            "158\n",
            "159\n",
            "160\n",
            "161\n",
            "162\n",
            "163\n",
            "164\n",
            "165\n",
            "166\n",
            "167\n",
            "168\n",
            "169\n",
            "170\n",
            "171\n",
            "172\n",
            "173\n",
            "174\n",
            "175\n",
            "176\n",
            "177\n",
            "178\n",
            "179\n",
            "180\n",
            "181\n",
            "182\n",
            "183\n",
            "184\n",
            "185\n",
            "186\n",
            "187\n",
            "188\n",
            "189\n",
            "190\n",
            "191\n",
            "192\n",
            "193\n",
            "194\n",
            "195\n",
            "196\n",
            "197\n",
            "198\n",
            "199\n"
          ],
          "name": "stdout"
        }
      ]
    },
    {
      "cell_type": "code",
      "metadata": {
        "id": "wor9puE5ZQpO",
        "colab_type": "code",
        "outputId": "1ba6d4c4-63df-4430-94ce-8eb6722e7f16",
        "colab": {
          "base_uri": "https://localhost:8080/",
          "height": 34
        }
      },
      "source": [
        "\n",
        "feq.shape"
      ],
      "execution_count": 0,
      "outputs": [
        {
          "output_type": "execute_result",
          "data": {
            "text/plain": [
              "(9, 32, 64)"
            ]
          },
          "metadata": {
            "tags": []
          },
          "execution_count": 5
        }
      ]
    },
    {
      "cell_type": "code",
      "metadata": {
        "id": "ChlLaVrcR6vh",
        "colab_type": "code",
        "outputId": "bf965737-dae4-417b-b571-2dba4012177e",
        "colab": {
          "base_uri": "https://localhost:8080/",
          "height": 1000
        }
      },
      "source": [
        "\n",
        "# Anlytical solution\n",
        "uxa = np.zeros([Nx,Ny])\n",
        "kap = 2*np.pi/L\n",
        "nu = (tau-0.5)/3.\n",
        "uxa[:,:] = (u0*np.exp(-tmax*nu*kap*kap)*np.sin(2.*np.pi*y[np.newaxis,:]/L))\n",
        "\n",
        "\n",
        "plt.matshow(vel[0,:,:].T)\n",
        "plt.colorbar()\n",
        "plt.show()\n",
        "\n",
        "\n",
        "\n",
        "plt.plot(ux[2,:], -y, 'b',label='Intial');\n",
        "plt.plot(uxa[2,:], -y, 'r',label='Intial');\n",
        "plt.grid()\n",
        "plt.show()\n",
        "\n",
        "\n",
        "plt.matshow(uxa.T)\n",
        "plt.colorbar()\n",
        "plt.show()\n"
      ],
      "execution_count": 0,
      "outputs": [
        {
          "output_type": "display_data",
          "data": {
            "image/png": "[encoded data removed]",
            "text/plain": [
              "<Figure size 288x576 with 2 Axes>"
            ]
          },
          "metadata": {
            "tags": []
          }
        },
        {
          "output_type": "display_data",
          "data": {
            "image/png": "[encoded data removed]",
            "text/plain": [
              "<Figure size 432x288 with 1 Axes>"
            ]
          },
          "metadata": {
            "tags": []
          }
        },
        {
          "output_type": "display_data",
          "data": {
            "image/png": "[encoded data removed]",
            "text/plain": [
              "<Figure size 288x576 with 2 Axes>"
            ]
          },
          "metadata": {
            "tags": []
          }
        }
      ]
    },
    {
      "cell_type": "code",
      "metadata": {
        "id": "rUohM2YxR6vk",
        "colab_type": "code",
        "outputId": "b766137e-9279-42d4-a746-36cfef7d73e6",
        "colab": {}
      },
      "source": [
        "from scipy.optimize import curve_fit\n",
        "\n",
        "#print(uxmax)\n",
        "\n",
        "def fit_log(x,a):\n",
        "    return np.log(u0)+np.log((np.sin(2*np.pi*(ymax)/L)))-1.0*a*a*kap*kap*x\n",
        "\n",
        "\n",
        "\n",
        "t = np.arange(0,tmax,tsave,dtype=np.float)\n",
        "#print(t)\n",
        "popt, pcov = curve_fit(fit_log, t, np.log(uxmax))\n",
        "print(popt*popt,nu)\n",
        "plt.plot(t,np.log(uxmax),'--o',label='V(t)')\n",
        "plt.plot(t,fit_log(t,popt),'-o',label='Fit')\n",
        "plt.grid()\n",
        "plt.xlabel('iterations')\n",
        "plt.ylabel('Log(Velocity)')\n",
        "plt.legend()\n",
        "\n",
        "\n",
        "\n"
      ],
      "execution_count": 0,
      "outputs": [
        {
          "output_type": "stream",
          "text": [
            "[0.16791977] 0.16666666666666666\n"
          ],
          "name": "stdout"
        },
        {
          "output_type": "execute_result",
          "data": {
            "text/plain": [
              "<matplotlib.legend.Legend at 0x1024048dd0>"
            ]
          },
          "metadata": {
            "tags": []
          },
          "execution_count": 13
        },
        {
          "output_type": "display_data",
          "data": {
            "image/png": "[encoded data removed]",
            "text/plain": [
              "<Figure size 432x288 with 1 Axes>"
            ]
          },
          "metadata": {
            "tags": [],
            "needs_background": "light"
          }
        }
      ]
    },
    {
      "cell_type": "code",
      "metadata": {
        "id": "NI3C0tLjR6vn",
        "colab_type": "code",
        "outputId": "3bc5620b-2e3e-4d9a-90e9-68e44e7205b0",
        "colab": {}
      },
      "source": [
        "Vel=np.loadtxt(\"velocity.txt\")\n",
        "\n",
        "Vel.shape\n",
        "\n",
        "uxa.shape\n",
        "\n",
        "#L2 norm error in ux velocity\n",
        "L2error = np.sqrt((np.sum((ux-uxa)**2))/(Nx*Ny))\n",
        "\n",
        "L2error\n",
        "\n"
      ],
      "execution_count": 0,
      "outputs": [
        {
          "output_type": "execute_result",
          "data": {
            "text/plain": [
              "5.673416021631913e-09"
            ]
          },
          "metadata": {
            "tags": []
          },
          "execution_count": 14
        }
      ]
    },
    {
      "cell_type": "code",
      "metadata": {
        "id": "jEarfdJHR6vr",
        "colab_type": "code",
        "outputId": "442d7ed1-6471-41a2-9c1e-0647771cb4bd",
        "colab": {}
      },
      "source": [
        "from scipy.optimize import curve_fit\n",
        "\n",
        "def fit(x,a):\n",
        "    return u0*np.sin(2*np.pi*(ymax)/L)*np.exp(-1.0*a*a*kap*kap*x)\n",
        "\n",
        "popt, pcov = curve_fit(fit, t, uxmax)\n",
        "print(popt*popt,nu)\n",
        "plt.plot(t,uxmax,'--o',label='V(t)')\n",
        "plt.plot(t,fit(t,popt),'-o',label='Fit')\n",
        "#plt.xlim(-0.5, 20.0)\n",
        "plt.grid()\n",
        "plt.xlabel('iterations')\n",
        "plt.ylabel('Velocity')\n",
        "plt.legend()\n",
        "\n",
        "\n"
      ],
      "execution_count": 0,
      "outputs": [
        {
          "output_type": "stream",
          "text": [
            "[0.16799396] 0.16666666666666666\n"
          ],
          "name": "stdout"
        },
        {
          "output_type": "execute_result",
          "data": {
            "text/plain": [
              "<matplotlib.legend.Legend at 0x1024294750>"
            ]
          },
          "metadata": {
            "tags": []
          },
          "execution_count": 15
        },
        {
          "output_type": "display_data",
          "data": {
            "image/png": "[encoded data removed]",
            "text/plain": [
              "<Figure size 432x288 with 1 Axes>"
            ]
          },
          "metadata": {
            "tags": [],
            "needs_background": "light"
          }
        }
      ]
    },
    {
      "cell_type": "code",
      "metadata": {
        "id": "PjUQNBm4R6vu",
        "colab_type": "code",
        "colab": {}
      },
      "source": [
        ""
      ],
      "execution_count": 0,
      "outputs": []
    }
  ]
}