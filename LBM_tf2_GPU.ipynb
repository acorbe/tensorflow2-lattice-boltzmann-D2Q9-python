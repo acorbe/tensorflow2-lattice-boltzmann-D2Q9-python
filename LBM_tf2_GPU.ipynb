{
  "nbformat": 4,
  "nbformat_minor": 0,
  "metadata": {
    "colab": {
      "name": "LBM-tf2-GPU",
      "provenance": [],
      "collapsed_sections": [],
      "toc_visible": true,
      "machine_shape": "hm",
      "include_colab_link": true
    },
    "kernelspec": {
      "name": "python3",
      "display_name": "Python 3"
    },
    "accelerator": "GPU"
  },
  "cells": [
    {
      "cell_type": "markdown",
      "metadata": {
        "id": "view-in-github",
        "colab_type": "text"
      },
      "source": [
        "<a href=\"https://colab.research.google.com/github/acorbe/tensorflow2-lattice-boltzmann-D2Q9-python/blob/master/LBM_tf2_GPU.ipynb\" target=\"_parent\"><img src=\"https://colab.research.google.com/assets/colab-badge.svg\" alt=\"Open In Colab\"/></a>"
      ]
    },
    {
      "cell_type": "code",
      "metadata": {
        "colab_type": "code",
        "id": "sXnDmXR7RDr2",
        "outputId": "5fe1e31a-a851-4c84-cacd-9b1c0f5dbbcc",
        "colab": {
          "base_uri": "https://localhost:8080/",
          "height": 34
        }
      },
      "source": [
        "%tensorflow_version 2.x\n",
        "import tensorflow as tf\n",
        "device_name = tf.test.gpu_device_name()\n",
        "if device_name != '/device:GPU:0':\n",
        "  raise SystemError('GPU device not found')\n",
        "print('Found GPU at: {}'.format(device_name))\n",
        "\n",
        "#%load_ext tensorboard\n",
        "#%tensorboard --logdir logs"
      ],
      "execution_count": 1,
      "outputs": [
        {
          "output_type": "stream",
          "text": [
            "Found GPU at: /device:GPU:0\n"
          ],
          "name": "stdout"
        }
      ]
    },
    {
      "cell_type": "code",
      "metadata": {
        "id": "TN_jtJjmSZPt",
        "colab_type": "code",
        "colab": {}
      },
      "source": [
        "import numpy as np\n",
        "\n",
        "e_np = np.array([[0,0],[1,0],[0,1],[-1,0],[0,-1],[1,1],[-1,1],[-1,-1],[1,-1]]).T[:,:,np.newaxis,np.newaxis]\n",
        "w_np = np.array([4./9., 1./9., 1./9., 1./9., 1./9., 1./36., 1./36., 1./36., 1./36.])[np.newaxis,:,np.newaxis,np.newaxis]\n",
        "\n",
        "loc_dtype = tf.float32\n",
        "\n",
        "e = tf.constant(\n",
        "    e_np,\n",
        "    dtype=loc_dtype,\n",
        "    shape=None,\n",
        "    name='e_'\n",
        ")\n",
        "\n",
        "eint = e_np[:,:,0,0].astype(np.int32)\n",
        "\n",
        "\n",
        "w = tf.constant(\n",
        "    w_np,\n",
        "    dtype=loc_dtype,\n",
        "    shape=None,\n",
        "    name='w_'\n",
        ")\n",
        "\n",
        "# Domain size and parameters \n",
        "Nx = 2**5  # domain size in X\n",
        "Ny = 2**5  # domain size in Y\n",
        "q = 9  # number of velocity directions \n",
        "\n",
        "tau = 1.0\n",
        "omega = 1. / tau\n",
        "nu = (1.0/3.0) * (tau - 0.5)\n",
        "tmax = 200\n",
        "tsave = 1\n",
        "L  = Ny/1.  # characteristic length\n",
        "u0 = 0.20  # characteristic velocity\n",
        "\n",
        "\n",
        "\n",
        "# defining PDFs \n",
        "f_np = np.zeros([1,q,Nx,Ny])\n",
        "feq_np = np.zeros([1,q,Nx,Ny])\n",
        "fp_np = np.zeros([1,q,Nx,Ny])\n",
        "\n",
        "f = tf.Variable(\n",
        "    f_np,\n",
        "    dtype=loc_dtype,\n",
        "    shape=None,\n",
        "    name='f_'\n",
        ")\n",
        "\n",
        "feq = tf.Variable(\n",
        "    feq_np,\n",
        "    dtype=loc_dtype,\n",
        "    shape=None,\n",
        "    name='feq_'\n",
        ")\n",
        "\n",
        "fp = tf.Variable(\n",
        "    fp_np,\n",
        "    dtype=loc_dtype,\n",
        "    shape=None,\n",
        "    name='fp_'\n",
        ")\n",
        "\n",
        "\n",
        "rsum_pop = lambda x : tf.reduce_sum(x,axis=1,keepdims=True) \n",
        "\n",
        "def comp_rho(f_,rho):\n",
        "  rho.assign( rsum_pop(f_) )\n",
        "  return rho\n",
        "\n",
        "def comp_u(f_,u,rho):\n",
        "  u.assign(  rsum_pop(e * f_)/ rho )\n",
        "  return u\n",
        "\n",
        "def v_dot(w1,w2):\n",
        "  return tf.reduce_sum(w1*w2,axis=0,keepdims=True)\n",
        "\n",
        "def compute_eq_distribution(rho, u, feq):\n",
        "  e_dot_u = v_dot(e, u)\n",
        "  feq.assign( w * rho * (\n",
        "      3 * e_dot_u  + 9/2 * e_dot_u**2 - 3/2 *  v_dot(u,u) + 1.0 ) \n",
        "  )\n",
        "  return feq\n",
        "  \n",
        "def collision(fp,feq,f):\n",
        "  f.assign( omega*feq+(1.0-omega)*fp )\n",
        "  return f\n",
        "\n",
        "def streaming(f,fp):\n",
        "   for k in range(q):\n",
        "        #fp[:,k,:,:] = np.roll(np.roll(f[k,:,:],e[k,0],axis=0),e[k,1],axis=1)\n",
        "        fp[:,k,:,:].assign(tf.roll(f[:,k,:,:]\n",
        "                              , shift = eint[:,k], axis=[2-1,3-1]))\n",
        "   return fp\n",
        "\n",
        "def step(f,feq,fp,rho,u):\n",
        "  streaming(f,fp)  \n",
        "\n",
        "  comp_rho(f,rho)\n",
        "  compute_eq_distribution(rho, comp_u(f,u,rho), feq)\n",
        "  collision(fp,feq,f)\n",
        "  return f\n",
        "  \n",
        "\n",
        "\n"
      ],
      "execution_count": 0,
      "outputs": []
    },
    {
      "cell_type": "code",
      "metadata": {
        "id": "OwtfJuDrTCz-",
        "colab_type": "code",
        "colab": {}
      },
      "source": [
        "x = np.linspace(0,Nx-1,Nx)\n",
        "y = np.linspace(0,Ny-1,Ny)\n",
        "rho_0_np = np.ones([1,1,Nx,Ny]) # + 1.\n",
        "u_0_np = np.zeros([2,1,Nx,Ny])\n",
        "u_0_np[0,0,:,:] =  u0*np.sin(2.*np.pi*y/L)\n",
        "#uy_np = np.zeros([Nx,Ny])\n",
        "\n",
        "\n",
        "\n"
      ],
      "execution_count": 0,
      "outputs": []
    },
    {
      "cell_type": "markdown",
      "metadata": {
        "id": "zLiKeVGSMJEw",
        "colab_type": "text"
      },
      "source": [
        "**MAIN LOOP**"
      ]
    },
    {
      "cell_type": "code",
      "metadata": {
        "id": "nkzQ83YpXGDR",
        "colab_type": "code",
        "colab": {}
      },
      "source": [
        "rho_0 = tf.Variable(rho_0_np,dtype=loc_dtype)\n",
        "u_0 = tf.Variable(u_0_np,dtype=loc_dtype)\n",
        "\n",
        "f.assign(compute_eq_distribution(rho_0,u_0,feq))\n",
        "\n",
        "\n",
        "i = tf.Variable(0)\n",
        "def body(i,f,feq,fp,rho,u):\n",
        "  step(f,feq,fp,rho,u)\n",
        "  i.assign_add(1)\n",
        "  \n",
        "  return [i,f,feq,fp,rho,u]\n",
        "\n",
        "def condition(i,f,feq,fp,rho,u):\n",
        "  return tf.less(i, 200)\n",
        "\n",
        "\n",
        "out = tf.while_loop(\n",
        "    condition, body\n",
        "    , loop_vars = [i,f,feq,fp,rho_0,u_0]\n",
        "    , shape_invariants= list(\n",
        "        map(\n",
        "            lambda x : x.get_shape() \n",
        "            , [i,f,feq,fp,rho_0,u_0] \n",
        "            )\n",
        "        )\n",
        ")\n",
        "\n",
        "# for i in range(1000):\n",
        "#   step(f,feq,fp,rho_0,u_0)"
      ],
      "execution_count": 0,
      "outputs": []
    },
    {
      "cell_type": "code",
      "metadata": {
        "id": "9VtVWSQS02uX",
        "colab_type": "code",
        "outputId": "601be33a-84c5-404c-8d5c-5371208dab7d",
        "colab": {
          "base_uri": "https://localhost:8080/",
          "height": 305
        }
      },
      "source": [
        "%pylab inline\n",
        "\n",
        "plt.imshow(tf.transpose(out[5][0,0]))\n",
        "plt.colorbar()"
      ],
      "execution_count": 0,
      "outputs": [
        {
          "output_type": "stream",
          "text": [
            "Populating the interactive namespace from numpy and matplotlib\n"
          ],
          "name": "stdout"
        },
        {
          "output_type": "execute_result",
          "data": {
            "text/plain": [
              "<matplotlib.colorbar.Colorbar at 0x7f53a40ea438>"
            ]
          },
          "metadata": {
            "tags": []
          },
          "execution_count": 6
        },
        {
          "output_type": "display_data",
          "data": {
            "image/png": "[encoded data removed]",
            "text/plain": [
              "<Figure size 432x288 with 2 Axes>"
            ]
          },
          "metadata": {
            "tags": []
          }
        }
      ]
    },
    {
      "cell_type": "code",
      "metadata": {
        "id": "Hyp1SiCnZVso",
        "colab_type": "code",
        "colab": {}
      },
      "source": [
        "\n"
      ],
      "execution_count": 0,
      "outputs": []
    },
    {
      "cell_type": "code",
      "metadata": {
        "id": "qc5cfMtlYjXl",
        "colab_type": "code",
        "colab": {}
      },
      "source": [
        "\n"
      ],
      "execution_count": 0,
      "outputs": []
    }
  ]
}